{
  "nbformat": 4,
  "nbformat_minor": 0,
  "metadata": {
    "colab": {
      "name": "张量与常见操作.ipynb",
      "provenance": [],
      "collapsed_sections": [],
      "include_colab_link": true
    },
    "kernelspec": {
      "name": "python3",
      "display_name": "Python 3"
    }
  },
  "cells": [
    {
      "cell_type": "markdown",
      "metadata": {
        "id": "view-in-github",
        "colab_type": "text"
      },
      "source": [
        "<a href=\"https://colab.research.google.com/github/xqmmy/tensorflow2.0/blob/master/%E5%BC%A0%E9%87%8F%E4%B8%8E%E5%B8%B8%E8%A7%81%E6%93%8D%E4%BD%9C.ipynb\" target=\"_parent\"><img src=\"https://colab.research.google.com/assets/colab-badge.svg\" alt=\"Open In Colab\"/></a>"
      ]
    },
    {
      "cell_type": "code",
      "metadata": {
        "id": "5TuZuOvoFyvb",
        "colab_type": "code",
        "colab": {}
      },
      "source": [
        "import tensorflow as tf"
      ],
      "execution_count": 0,
      "outputs": []
    },
    {
      "cell_type": "code",
      "metadata": {
        "id": "0mqJl430F6g1",
        "colab_type": "code",
        "colab": {}
      },
      "source": [
        "# 张量的操作"
      ],
      "execution_count": 0,
      "outputs": []
    },
    {
      "cell_type": "code",
      "metadata": {
        "id": "a5k4RD5YGCzx",
        "colab_type": "code",
        "colab": {
          "base_uri": "https://localhost:8080/",
          "height": 51
        },
        "outputId": "76286724-59c3-421b-d25f-1e8af2a276fb"
      },
      "source": [
        "# Rank 0\n",
        "mammal=tf.Variable(\"cat\",tf.string)\n",
        "tf.print(tf.rank(mammal))\n",
        "tf.print(tf.shape(mammal))"
      ],
      "execution_count": 5,
      "outputs": [
        {
          "output_type": "stream",
          "text": [
            "0\n",
            "[]\n"
          ],
          "name": "stdout"
        }
      ]
    },
    {
      "cell_type": "code",
      "metadata": {
        "id": "04QfFSJxGEio",
        "colab_type": "code",
        "outputId": "d09a3036-4cba-4f5e-96b3-ade7457213a0",
        "colab": {
          "base_uri": "https://localhost:8080/",
          "height": 34
        }
      },
      "source": [
        "print(tf.rank(mammal))"
      ],
      "execution_count": 6,
      "outputs": [
        {
          "output_type": "stream",
          "text": [
            "tf.Tensor(0, shape=(), dtype=int32)\n"
          ],
          "name": "stdout"
        }
      ]
    },
    {
      "cell_type": "code",
      "metadata": {
        "id": "-9Lju6eEGGtL",
        "colab_type": "code",
        "colab": {
          "base_uri": "https://localhost:8080/",
          "height": 51
        },
        "outputId": "5d351166-8251-4a47-a92e-d83881ff9f60"
      },
      "source": [
        "#Rank 1\n",
        "mystr=tf.Variable([\"Hello\"],tf.string)\n",
        "tf.print(tf.rank(mystr))\n",
        "tf.print(tf.shape(mystr))"
      ],
      "execution_count": 7,
      "outputs": [
        {
          "output_type": "stream",
          "text": [
            "1\n",
            "[1]\n"
          ],
          "name": "stdout"
        }
      ]
    },
    {
      "cell_type": "code",
      "metadata": {
        "id": "f5zgF6_7Hbxi",
        "colab_type": "code",
        "colab": {
          "base_uri": "https://localhost:8080/",
          "height": 51
        },
        "outputId": "00bfa625-8d33-4629-a629-9d5feafe129d"
      },
      "source": [
        "#Rank 2\n",
        "mymat=tf.Variable([[7],[11]],tf.int16)\n",
        "tf.print(tf.rank(mymat))\n",
        "tf.print(tf.shape(mymat))"
      ],
      "execution_count": 8,
      "outputs": [
        {
          "output_type": "stream",
          "text": [
            "2\n",
            "[2 1]\n"
          ],
          "name": "stdout"
        }
      ]
    },
    {
      "cell_type": "code",
      "metadata": {
        "id": "cYG-eiSFHcRs",
        "colab_type": "code",
        "colab": {
          "base_uri": "https://localhost:8080/",
          "height": 34
        },
        "outputId": "1c93d635-7cc0-445b-e4b7-ad3cecc9f0b6"
      },
      "source": [
        "#创建张量\n",
        "tf.constant([1,2,3],dtype=tf.int16)"
      ],
      "execution_count": 9,
      "outputs": [
        {
          "output_type": "execute_result",
          "data": {
            "text/plain": [
              "<tf.Tensor: shape=(3,), dtype=int16, numpy=array([1, 2, 3], dtype=int16)>"
            ]
          },
          "metadata": {
            "tags": []
          },
          "execution_count": 9
        }
      ]
    },
    {
      "cell_type": "code",
      "metadata": {
        "id": "tC8Ah7HB_Qle",
        "colab_type": "code",
        "colab": {
          "base_uri": "https://localhost:8080/",
          "height": 68
        },
        "outputId": "4c33aba7-78b7-43e3-8eb7-16199a1b1fa4"
      },
      "source": [
        "tf.zeros((2,2),dtype=tf.int16)"
      ],
      "execution_count": 10,
      "outputs": [
        {
          "output_type": "execute_result",
          "data": {
            "text/plain": [
              "<tf.Tensor: shape=(2, 2), dtype=int16, numpy=\n",
              "array([[0, 0],\n",
              "       [0, 0]], dtype=int16)>"
            ]
          },
          "metadata": {
            "tags": []
          },
          "execution_count": 10
        }
      ]
    },
    {
      "cell_type": "code",
      "metadata": {
        "id": "rOxoLjFv_WAA",
        "colab_type": "code",
        "colab": {
          "base_uri": "https://localhost:8080/",
          "height": 272
        },
        "outputId": "5043b585-414b-4bc9-d3f0-a7167abb2fa0"
      },
      "source": [
        "rank_three_tensor=tf.ones([3,4,5])\n",
        "rank_three_tensor"
      ],
      "execution_count": 14,
      "outputs": [
        {
          "output_type": "execute_result",
          "data": {
            "text/plain": [
              "<tf.Tensor: shape=(3, 4, 5), dtype=float32, numpy=\n",
              "array([[[1., 1., 1., 1., 1.],\n",
              "        [1., 1., 1., 1., 1.],\n",
              "        [1., 1., 1., 1., 1.],\n",
              "        [1., 1., 1., 1., 1.]],\n",
              "\n",
              "       [[1., 1., 1., 1., 1.],\n",
              "        [1., 1., 1., 1., 1.],\n",
              "        [1., 1., 1., 1., 1.],\n",
              "        [1., 1., 1., 1., 1.]],\n",
              "\n",
              "       [[1., 1., 1., 1., 1.],\n",
              "        [1., 1., 1., 1., 1.],\n",
              "        [1., 1., 1., 1., 1.],\n",
              "        [1., 1., 1., 1., 1.]]], dtype=float32)>"
            ]
          },
          "metadata": {
            "tags": []
          },
          "execution_count": 14
        }
      ]
    },
    {
      "cell_type": "code",
      "metadata": {
        "id": "ZZZtOCJI_b3P",
        "colab_type": "code",
        "colab": {
          "base_uri": "https://localhost:8080/",
          "height": 136
        },
        "outputId": "66853d61-91f5-4ddb-bd16-38b1bc733f44"
      },
      "source": [
        "matrix=tf.reshape(rank_three_tensor,[6,10])\n",
        "matrix"
      ],
      "execution_count": 15,
      "outputs": [
        {
          "output_type": "execute_result",
          "data": {
            "text/plain": [
              "<tf.Tensor: shape=(6, 10), dtype=float32, numpy=\n",
              "array([[1., 1., 1., 1., 1., 1., 1., 1., 1., 1.],\n",
              "       [1., 1., 1., 1., 1., 1., 1., 1., 1., 1.],\n",
              "       [1., 1., 1., 1., 1., 1., 1., 1., 1., 1.],\n",
              "       [1., 1., 1., 1., 1., 1., 1., 1., 1., 1.],\n",
              "       [1., 1., 1., 1., 1., 1., 1., 1., 1., 1.],\n",
              "       [1., 1., 1., 1., 1., 1., 1., 1., 1., 1.]], dtype=float32)>"
            ]
          },
          "metadata": {
            "tags": []
          },
          "execution_count": 15
        }
      ]
    },
    {
      "cell_type": "code",
      "metadata": {
        "id": "-bzG8c9x_myJ",
        "colab_type": "code",
        "colab": {
          "base_uri": "https://localhost:8080/",
          "height": 34
        },
        "outputId": "f3586c4f-a823-4f18-e784-73972a8969bf"
      },
      "source": [
        "#字符切割\n",
        "tf.strings.bytes_split('process')"
      ],
      "execution_count": 16,
      "outputs": [
        {
          "output_type": "execute_result",
          "data": {
            "text/plain": [
              "<tf.Tensor: shape=(7,), dtype=string, numpy=array([b'p', b'r', b'o', b'c', b'e', b's', b's'], dtype=object)>"
            ]
          },
          "metadata": {
            "tags": []
          },
          "execution_count": 16
        }
      ]
    },
    {
      "cell_type": "code",
      "metadata": {
        "id": "iY7zFK4R_yLo",
        "colab_type": "code",
        "colab": {
          "base_uri": "https://localhost:8080/",
          "height": 34
        },
        "outputId": "016aa0f7-f890-4df7-fa28-30952e607c49"
      },
      "source": [
        "#单词切割\n",
        "tf.strings.split('how are you')"
      ],
      "execution_count": 17,
      "outputs": [
        {
          "output_type": "execute_result",
          "data": {
            "text/plain": [
              "<tf.Tensor: shape=(3,), dtype=string, numpy=array([b'how', b'are', b'you'], dtype=object)>"
            ]
          },
          "metadata": {
            "tags": []
          },
          "execution_count": 17
        }
      ]
    },
    {
      "cell_type": "code",
      "metadata": {
        "id": "n3EeihNH_4v_",
        "colab_type": "code",
        "colab": {}
      },
      "source": [
        "#tf自带debug函数\n",
        "a=tf.random.uniform((10,10))\n",
        "tf.debugging.assert_equal(x=a.shape,y=(10,10))"
      ],
      "execution_count": 0,
      "outputs": []
    },
    {
      "cell_type": "code",
      "metadata": {
        "id": "L5xtIvMQ_8HM",
        "colab_type": "code",
        "colab": {
          "base_uri": "https://localhost:8080/",
          "height": 221
        },
        "outputId": "09cdf8fb-ee9e-4850-b25f-8f86af90a095"
      },
      "source": [
        "a = tf.random.uniform(shape=(10,5),minval=0,maxval=10)\n",
        "a"
      ],
      "execution_count": 19,
      "outputs": [
        {
          "output_type": "execute_result",
          "data": {
            "text/plain": [
              "<tf.Tensor: shape=(10, 5), dtype=float32, numpy=\n",
              "array([[5.6971025 , 1.485548  , 1.0857177 , 0.11381745, 0.33410788],\n",
              "       [9.342882  , 5.0783386 , 0.25604248, 9.524856  , 9.407173  ],\n",
              "       [2.2291708 , 7.786083  , 7.6321483 , 8.70846   , 2.8494883 ],\n",
              "       [8.069924  , 4.5163336 , 5.560936  , 1.546551  , 4.871514  ],\n",
              "       [8.414236  , 3.3890462 , 0.24195552, 7.9874396 , 6.8086185 ],\n",
              "       [6.8200455 , 9.729386  , 9.838596  , 9.303618  , 2.9440987 ],\n",
              "       [1.0381007 , 0.93303084, 0.8447206 , 8.647412  , 6.251805  ],\n",
              "       [9.879711  , 9.617047  , 5.918742  , 0.11989474, 6.891477  ],\n",
              "       [5.303668  , 4.047905  , 8.083669  , 3.0990446 , 5.4635153 ],\n",
              "       [8.315069  , 4.076252  , 5.164969  , 4.907175  , 4.9256363 ]],\n",
              "      dtype=float32)>"
            ]
          },
          "metadata": {
            "tags": []
          },
          "execution_count": 19
        }
      ]
    },
    {
      "cell_type": "code",
      "metadata": {
        "id": "qenImnCE__fd",
        "colab_type": "code",
        "colab": {
          "base_uri": "https://localhost:8080/",
          "height": 153
        },
        "outputId": "1a5c6b5a-d0ff-4176-8665-07ab054ef47e"
      },
      "source": [
        "a = tf.constant([[1,2],[3,4]])\n",
        "b = tf.constant([[5,6],[7,8]])\n",
        "\n",
        "tf.print(tf.math.add(a,b))\n",
        "tf.print(tf.math.subtract(a,b))\n",
        "tf.print(tf.math.multiply(a,b))\n",
        "tf.print(tf.math.divide(a,b))"
      ],
      "execution_count": 20,
      "outputs": [
        {
          "output_type": "stream",
          "text": [
            "[[6 8]\n",
            " [10 12]]\n",
            "[[-4 -4]\n",
            " [-4 -4]]\n",
            "[[5 12]\n",
            " [21 32]]\n",
            "[[0.2 0.33333333333333331]\n",
            " [0.42857142857142855 0.5]]\n"
          ],
          "name": "stdout"
        }
      ]
    },
    {
      "cell_type": "code",
      "metadata": {
        "id": "VAEzp47xADEW",
        "colab_type": "code",
        "colab": {
          "base_uri": "https://localhost:8080/",
          "height": 68
        },
        "outputId": "c380604d-0b73-433e-d17f-94d3f70028a1"
      },
      "source": [
        "print(tf.math.add(a,b))"
      ],
      "execution_count": 21,
      "outputs": [
        {
          "output_type": "stream",
          "text": [
            "tf.Tensor(\n",
            "[[ 6  8]\n",
            " [10 12]], shape=(2, 2), dtype=int32)\n"
          ],
          "name": "stdout"
        }
      ]
    },
    {
      "cell_type": "code",
      "metadata": {
        "id": "RHAU6lnDAFwH",
        "colab_type": "code",
        "colab": {
          "base_uri": "https://localhost:8080/",
          "height": 34
        },
        "outputId": "73f0aed6-f117-4b49-f405-d01c02ac8dd5"
      },
      "source": [
        "x =tf.constant([1.8,2.2],dtype=tf.float32)\n",
        "\n",
        "x1=tf.dtypes.cast(x,tf.int32)\n",
        "x1"
      ],
      "execution_count": 22,
      "outputs": [
        {
          "output_type": "execute_result",
          "data": {
            "text/plain": [
              "<tf.Tensor: shape=(2,), dtype=int32, numpy=array([1, 2], dtype=int32)>"
            ]
          },
          "metadata": {
            "tags": []
          },
          "execution_count": 22
        }
      ]
    },
    {
      "cell_type": "code",
      "metadata": {
        "id": "CMxNbouhAI5Y",
        "colab_type": "code",
        "colab": {}
      },
      "source": [
        "#文本分类\n",
        "\n",
        "a = tf.random.uniform(shape = (10,100,50),minval=-0.5,maxval=0.5) #张量\n",
        "\n",
        "x = tf.keras.layers.LSTM(100)(a) #LSTM\n",
        "\n",
        "x = tf.keras.layers.Dense(10)(x) #全连接层\n",
        "\n",
        "x = tf.nn.softmax(x) #激活函数"
      ],
      "execution_count": 0,
      "outputs": []
    },
    {
      "cell_type": "code",
      "metadata": {
        "id": "L6-XmXVPAQIA",
        "colab_type": "code",
        "colab": {}
      },
      "source": [
        "#层中增加激活函数\n",
        "tf.keras.layers.Dense(64, activation='relu')\n",
        "#or\n",
        "tf.keras.layers.Dense(64, activation=tf.nn.relu)\n",
        "\n",
        "\n",
        "#将L1正则化系数为0.01的线性层应用于内核矩阵\n",
        "tf.keras.layers.Dense(64, kernel_regularizer=tf.keras.regularizers.l1(0.01))\n",
        "\n",
        "# 将L2正则化系数为0.01的线性层应用于偏差向量：\n",
        "tf.keras.layers.Dense(64, bias_regularizer=tf.keras.regularizers.l2(0.01))\n",
        "\n",
        "# 内核初始化为随机正交矩阵的线性层：\n",
        "tf.keras.layers.Dense(64, kernel_initializer='orthogonal')\n",
        "\n",
        "# 偏差向量初始化为2.0的线性层：\n",
        "tf.keras.layers.Dense(64, bias_initializer=tf.keras.initializers.Constant(2.0))"
      ],
      "execution_count": 0,
      "outputs": []
    }
  ]
}