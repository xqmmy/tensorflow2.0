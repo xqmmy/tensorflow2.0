{
  "nbformat": 4,
  "nbformat_minor": 0,
  "metadata": {
    "colab": {
      "name": "TensorFlow建模方式.ipynb",
      "provenance": [],
      "authorship_tag": "ABX9TyM1t2rjpsPlMeIPAji1picy",
      "include_colab_link": true
    },
    "kernelspec": {
      "name": "python3",
      "display_name": "Python 3"
    }
  },
  "cells": [
    {
      "cell_type": "markdown",
      "metadata": {
        "id": "view-in-github",
        "colab_type": "text"
      },
      "source": [
        "<a href=\"https://colab.research.google.com/github/xqmmy/tensorflow2.0/blob/master/TensorFlow%E5%BB%BA%E6%A8%A1%E6%96%B9%E5%BC%8F.ipynb\" target=\"_parent\"><img src=\"https://colab.research.google.com/assets/colab-badge.svg\" alt=\"Open In Colab\"/></a>"
      ]
    },
    {
      "cell_type": "markdown",
      "metadata": {
        "id": "P-bjqGEIC9Hg",
        "colab_type": "text"
      },
      "source": [
        "# Sequential model"
      ]
    },
    {
      "cell_type": "markdown",
      "metadata": {
        "id": "vKoB45CpC77F",
        "colab_type": "text"
      },
      "source": [
        "###第一种 Sequential model"
      ]
    },
    {
      "cell_type": "code",
      "metadata": {
        "id": "IjDGZxydDWF5",
        "colab_type": "code",
        "colab": {}
      },
      "source": [
        "from tensorflow.keras import layers\n",
        "import tensorflow as tf"
      ],
      "execution_count": 0,
      "outputs": []
    },
    {
      "cell_type": "code",
      "metadata": {
        "id": "L3bgHsNaDkYJ",
        "colab_type": "code",
        "colab": {}
      },
      "source": [
        "model = tf.keras.Sequential()\n",
        "model.add(layers.Dense(64,activation='relu'))#第一层\n",
        "model.add(layers.Dense(64,activation='relu'))#第二层\n",
        "model.add(layers.Dense(10))#第三层"
      ],
      "execution_count": 0,
      "outputs": []
    },
    {
      "cell_type": "markdown",
      "metadata": {
        "id": "DU4eqlj8EIBw",
        "colab_type": "text"
      },
      "source": [
        "### 第二种Sequential model"
      ]
    },
    {
      "cell_type": "code",
      "metadata": {
        "id": "jC-Hiik9EE11",
        "colab_type": "code",
        "colab": {}
      },
      "source": [
        "model = tf.keras.Sequential([\n",
        "layers.Dense(64, activation='relu', input_shape=(32,)),#第一层\n",
        "layers.Dense(64, activation='relu'),#第二层\n",
        "layers.Dense(10)#第三层\n",
        "])"
      ],
      "execution_count": 0,
      "outputs": []
    },
    {
      "cell_type": "code",
      "metadata": {
        "id": "UnegQ8gdEhWC",
        "colab_type": "code",
        "colab": {}
      },
      "source": [
        "model.compile(optimizer=tf.keras.optimizers.Adam(0.01),\n",
        "              loss=tf.keras.losses.CategoricalCrossentropy(from_logits=True),\n",
        "              metrics=['accuracy'])"
      ],
      "execution_count": 0,
      "outputs": []
    },
    {
      "cell_type": "code",
      "metadata": {
        "id": "TK2PK6NpGRsK",
        "colab_type": "code",
        "colab": {
          "base_uri": "https://localhost:8080/",
          "height": 374
        },
        "outputId": "e80608dc-e38c-453d-e86c-00a91c4ecc96"
      },
      "source": [
        "import numpy as np\n",
        "data = np.random.random((1000,32))\n",
        "labels = np.random.random((1000,10))\n",
        "model.fit(data,labels,epochs=10,batch_size=32)"
      ],
      "execution_count": 6,
      "outputs": [
        {
          "output_type": "stream",
          "text": [
            "Epoch 1/10\n",
            "32/32 [==============================] - 0s 2ms/step - loss: 63.6139 - accuracy: 0.0920\n",
            "Epoch 2/10\n",
            "32/32 [==============================] - 0s 1ms/step - loss: 391.0170 - accuracy: 0.0940\n",
            "Epoch 3/10\n",
            "32/32 [==============================] - 0s 2ms/step - loss: 1544.1571 - accuracy: 0.0970\n",
            "Epoch 4/10\n",
            "32/32 [==============================] - 0s 1ms/step - loss: 3376.6956 - accuracy: 0.0910\n",
            "Epoch 5/10\n",
            "32/32 [==============================] - 0s 1ms/step - loss: 5232.4297 - accuracy: 0.1050\n",
            "Epoch 6/10\n",
            "32/32 [==============================] - 0s 1ms/step - loss: 11979.0117 - accuracy: 0.0900\n",
            "Epoch 7/10\n",
            "32/32 [==============================] - 0s 1ms/step - loss: 17649.6348 - accuracy: 0.0960\n",
            "Epoch 8/10\n",
            "32/32 [==============================] - 0s 1ms/step - loss: 20819.4883 - accuracy: 0.0830\n",
            "Epoch 9/10\n",
            "32/32 [==============================] - 0s 1ms/step - loss: 31095.0430 - accuracy: 0.1000\n",
            "Epoch 10/10\n",
            "32/32 [==============================] - 0s 1ms/step - loss: 34343.8477 - accuracy: 0.1040\n"
          ],
          "name": "stdout"
        },
        {
          "output_type": "execute_result",
          "data": {
            "text/plain": [
              "<tensorflow.python.keras.callbacks.History at 0x7f9fa5c21b38>"
            ]
          },
          "metadata": {
            "tags": []
          },
          "execution_count": 6
        }
      ]
    },
    {
      "cell_type": "markdown",
      "metadata": {
        "id": "-3qB7_5HHDeE",
        "colab_type": "text"
      },
      "source": [
        "tf.keras.Model.fit (用于模型训练) \n",
        "\n",
        "- epochs：训练分为几个时期。每一个epoch是对整个输入数据的一次迭代（此操作以较小的批次完成）。\n",
        "- batch_size：当传递NumPy数据时，模型将数据切成较小的批次，并在训练期间对这些批次进行迭代。该整数指定每个批次的大小。请注意，如果不能将样本总数除以批次大小，则最后一批可能会更小。\n",
        "- validation_data：在模型训练时，监控在某些验证数据上监视其性能。传递此参数（输入和标签的元组）可以使模型在每个时期结束时以推断模式显示所传递数据的损失和度量。"
      ]
    },
    {
      "cell_type": "markdown",
      "metadata": {
        "id": "O-GjVe8NHPTu",
        "colab_type": "text"
      },
      "source": [
        "# Function model\n",
        "\n",
        "函数式模型是一种创建模型的方法，该模型比tf.keras.Sequential更灵活。函数式模型可以处理具有非线性拓扑的模型，具有共享层的模型以及具有多个输入或输出的模型等等\n",
        "\n",
        "深度学习模型通常是层的有向无环图（DAG）的主要思想。因此，函数式模型是一种构建层图的方法。\n",
        "\n"
      ]
    },
    {
      "cell_type": "code",
      "metadata": {
        "id": "4rLcjyLZHEZo",
        "colab_type": "code",
        "colab": {}
      },
      "source": [
        "inputs = tf.keras.Input(shape=(32,))  \n",
        "# inputs = tf.keras.Input(shape=(32,))  \n",
        "x = layers.Dense(64, activation='relu')(inputs) #第一层\n",
        "x = layers.Dense(64, activation='relu')(x) #第二层\n",
        "predictions = layers.Dense(10)(x) #第三层"
      ],
      "execution_count": 0,
      "outputs": []
    },
    {
      "cell_type": "code",
      "metadata": {
        "id": "oBVriJ2CIG5d",
        "colab_type": "code",
        "colab": {
          "base_uri": "https://localhost:8080/",
          "height": 204
        },
        "outputId": "665c812e-e1d9-4037-9216-b81eb20e6b7b"
      },
      "source": [
        "model = tf.keras.Model(inputs=inputs, outputs=predictions)\n",
        "\n",
        "\n",
        "model.compile(optimizer=tf.keras.optimizers.RMSprop(0.001),\n",
        "              loss=tf.keras.losses.CategoricalCrossentropy(from_logits=True),\n",
        "              metrics=['accuracy'])\n",
        "\n",
        "import numpy as np\n",
        "data = np.random.random((1000, 32))\n",
        "labels = np.random.random((1000, 10))\n",
        "model.fit(data, labels, batch_size=32, epochs=5)"
      ],
      "execution_count": 8,
      "outputs": [
        {
          "output_type": "stream",
          "text": [
            "Epoch 1/5\n",
            "32/32 [==============================] - 0s 1ms/step - loss: 12.5868 - accuracy: 0.0860\n",
            "Epoch 2/5\n",
            "32/32 [==============================] - 0s 1ms/step - loss: 18.1144 - accuracy: 0.0640\n",
            "Epoch 3/5\n",
            "32/32 [==============================] - 0s 1ms/step - loss: 26.2031 - accuracy: 0.0680\n",
            "Epoch 4/5\n",
            "32/32 [==============================] - 0s 1ms/step - loss: 36.6580 - accuracy: 0.0700\n",
            "Epoch 5/5\n",
            "32/32 [==============================] - 0s 1ms/step - loss: 46.3598 - accuracy: 0.0920\n"
          ],
          "name": "stdout"
        },
        {
          "output_type": "execute_result",
          "data": {
            "text/plain": [
              "<tensorflow.python.keras.callbacks.History at 0x7f9fa2de13c8>"
            ]
          },
          "metadata": {
            "tags": []
          },
          "execution_count": 8
        }
      ]
    },
    {
      "cell_type": "code",
      "metadata": {
        "id": "a3ESqQtvIJW4",
        "colab_type": "code",
        "colab": {}
      },
      "source": [
        "inputs1 = tf.keras.Input(shape=(32,))  #输入1\n",
        "inputs2 = tf.keras.Input(shape=(32,))  #输入2\n",
        "x1 = layers.Dense(64, activation='relu')(inputs1) #第一层\n",
        "x2 = layers.Dense(64, activation='relu')(inputs2) #第一层\n",
        "x = tf.concat([x1,x2],axis=-1)\n",
        "x = layers.Dense(64, activation='relu')(x) #第二层\n",
        "predictions = layers.Dense(10)(x) #第三层"
      ],
      "execution_count": 0,
      "outputs": []
    },
    {
      "cell_type": "code",
      "metadata": {
        "id": "c8cFK_jNIM88",
        "colab_type": "code",
        "colab": {
          "base_uri": "https://localhost:8080/",
          "height": 204
        },
        "outputId": "5ba3af7d-1873-4bf9-cecd-987e4c141ddc"
      },
      "source": [
        "model = tf.keras.Model(inputs=[inputs1,inputs2], outputs=predictions)\n",
        "\n",
        "\n",
        "model.compile(optimizer=tf.keras.optimizers.RMSprop(0.001),\n",
        "              loss=tf.keras.losses.CategoricalCrossentropy(from_logits=True),\n",
        "              metrics=['accuracy'])\n",
        "\n",
        "import numpy as np\n",
        "data1 = np.random.random((1000, 32))\n",
        "data2 = np.random.random((1000, 32))\n",
        "labels = np.random.random((1000, 10))\n",
        "model.fit((data1,data2), labels, batch_size=32, epochs=5)"
      ],
      "execution_count": 10,
      "outputs": [
        {
          "output_type": "stream",
          "text": [
            "Epoch 1/5\n",
            "32/32 [==============================] - 0s 1ms/step - loss: 15.5698 - accuracy: 0.0840\n",
            "Epoch 2/5\n",
            "32/32 [==============================] - 0s 2ms/step - loss: 33.7542 - accuracy: 0.1020\n",
            "Epoch 3/5\n",
            "32/32 [==============================] - 0s 1ms/step - loss: 59.6384 - accuracy: 0.1060\n",
            "Epoch 4/5\n",
            "32/32 [==============================] - 0s 1ms/step - loss: 89.5581 - accuracy: 0.1100\n",
            "Epoch 5/5\n",
            "32/32 [==============================] - 0s 1ms/step - loss: 120.6364 - accuracy: 0.1040\n"
          ],
          "name": "stdout"
        },
        {
          "output_type": "execute_result",
          "data": {
            "text/plain": [
              "<tensorflow.python.keras.callbacks.History at 0x7f9fa2cb0390>"
            ]
          },
          "metadata": {
            "tags": []
          },
          "execution_count": 10
        }
      ]
    },
    {
      "cell_type": "markdown",
      "metadata": {
        "id": "VKwmdeCiIUQo",
        "colab_type": "text"
      },
      "source": [
        "#子类化模型\n",
        "通过子类化tf.keras.Model和定义自己的前向传播模型来构建完全可定制的模型。\n",
        "\n",
        "和eager execution模式相辅相成。"
      ]
    },
    {
      "cell_type": "code",
      "metadata": {
        "id": "rm7CS_RSIPBv",
        "colab_type": "code",
        "colab": {}
      },
      "source": [
        "class MyModel(tf.keras.Model):\n",
        "\n",
        "    def __init__(self, num_classes=10):\n",
        "        super(MyModel, self).__init__(name='my_model')\n",
        "        self.num_classes = num_classes\n",
        "        # 定义自己需要的层\n",
        "        self.dense_1 = layers.Dense(32, activation='relu') #\n",
        "        self.dense_2 = layers.Dense(num_classes)\n",
        "\n",
        "    def call(self, inputs):\n",
        "        #定义前向传播\n",
        "        # 使用在 (in `__init__`)定义的层\n",
        "        x = self.dense_1(inputs)\n",
        "        x = self.dense_2(x)\n",
        "        return x"
      ],
      "execution_count": 0,
      "outputs": []
    },
    {
      "cell_type": "code",
      "metadata": {
        "id": "XvbFIOOOIc_L",
        "colab_type": "code",
        "colab": {
          "base_uri": "https://localhost:8080/",
          "height": 374
        },
        "outputId": "01e4c50f-9f6e-4235-92e3-5a9e38e1cc67"
      },
      "source": [
        "model = MyModel(num_classes=10)\n",
        "\n",
        "model.compile(optimizer=tf.keras.optimizers.RMSprop(0.001),\n",
        "              loss=tf.keras.losses.CategoricalCrossentropy(from_logits=True),\n",
        "              metrics=['accuracy'])\n",
        "\n",
        "import numpy as np\n",
        "\n",
        "data = np.random.random((1000, 32))\n",
        "labels = np.random.random((1000, 10))\n",
        "# Trains for 10s epochs.\n",
        "model.fit(data, labels, batch_size=32, epochs=10)"
      ],
      "execution_count": 17,
      "outputs": [
        {
          "output_type": "stream",
          "text": [
            "Epoch 1/10\n",
            "32/32 [==============================] - 0s 1ms/step - loss: 11.9299 - accuracy: 0.1040\n",
            "Epoch 2/10\n",
            "32/32 [==============================] - 0s 1ms/step - loss: 12.6071 - accuracy: 0.1020\n",
            "Epoch 3/10\n",
            "32/32 [==============================] - 0s 1ms/step - loss: 13.7705 - accuracy: 0.1030\n",
            "Epoch 4/10\n",
            "32/32 [==============================] - 0s 1ms/step - loss: 15.3960 - accuracy: 0.1040\n",
            "Epoch 5/10\n",
            "32/32 [==============================] - 0s 1ms/step - loss: 16.7833 - accuracy: 0.1040\n",
            "Epoch 6/10\n",
            "32/32 [==============================] - 0s 1ms/step - loss: 17.7479 - accuracy: 0.1040\n",
            "Epoch 7/10\n",
            "32/32 [==============================] - 0s 1ms/step - loss: 18.5575 - accuracy: 0.0990\n",
            "Epoch 8/10\n",
            "32/32 [==============================] - 0s 1ms/step - loss: 19.2992 - accuracy: 0.1100\n",
            "Epoch 9/10\n",
            "32/32 [==============================] - 0s 1ms/step - loss: 20.2589 - accuracy: 0.1030\n",
            "Epoch 10/10\n",
            "32/32 [==============================] - 0s 1ms/step - loss: 21.2196 - accuracy: 0.1070\n"
          ],
          "name": "stdout"
        },
        {
          "output_type": "execute_result",
          "data": {
            "text/plain": [
              "<tensorflow.python.keras.callbacks.History at 0x7f9fa230f198>"
            ]
          },
          "metadata": {
            "tags": []
          },
          "execution_count": 17
        }
      ]
    },
    {
      "cell_type": "code",
      "metadata": {
        "id": "dpds5V9lIk8M",
        "colab_type": "code",
        "colab": {}
      },
      "source": [
        ""
      ],
      "execution_count": 0,
      "outputs": []
    }
  ]
}